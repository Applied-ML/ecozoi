{
 "cells": [
  {
   "cell_type": "code",
   "execution_count": 90,
   "metadata": {},
   "outputs": [],
   "source": [
    "import tensorflow as tf\n",
    "import numpy as np\n",
    "import pandas as pd\n",
    "import math\n",
    "import matplotlib.pyplot as plt\n",
    "import torch\n",
    "from rotary_embedding_torch import RotaryEmbedding\n",
    "\n"
   ]
  },
  {
   "cell_type": "code",
   "execution_count": 91,
   "metadata": {},
   "outputs": [],
   "source": [
    "\n",
    "X1 = tf.random.uniform((100,100))\n",
    "X1 = tf.round(X1*10000)/10000\n",
    "\n",
    "np_array = X1.numpy()\n",
    "\n",
    "X1_torch = torch.from_numpy(np_array).unsqueeze(0).unsqueeze(0)\n",
    "\n"
   ]
  },
  {
   "cell_type": "markdown",
   "metadata": {},
   "source": [
    "# Orcanzoi RoPE Implementation\n",
    "\n"
   ]
  },
  {
   "cell_type": "code",
   "execution_count": null,
   "metadata": {},
   "outputs": [],
   "source": [
    "\n",
    "\n",
    "\n",
    "def get_rope_rotation_matrix_list(d, m_vec, base=10000.0, dtype=tf.float32):\n",
    "    js = np.arange(0, d, 2)  \n",
    "    theta = 1.0 / (base ** (js / d))  \n",
    "    rotation_matrices = []\n",
    "    for m in m_vec:\n",
    "        m_theta = m * theta\n",
    "        cos_m_theta = tf.constant(np.cos(m_theta), dtype=dtype)\n",
    "        sin_m_theta = tf.constant(np.sin(m_theta), dtype=dtype)\n",
    "        I = tf.eye(d, dtype=dtype)\n",
    "        #R = tf.identity(I)\n",
    "        for idx, j in enumerate(js):\n",
    "            e_j = tf.eye(d, dtype=dtype)[:, j:j+1]\n",
    "            e_j1 = tf.eye(d, dtype=dtype)[:, j+1:j+2]\n",
    "            ej_ejT = tf.matmul(e_j, e_j, transpose_b=True)\n",
    "            ej1_ej1T = tf.matmul(e_j1, e_j1, transpose_b=True)\n",
    "            ej_ej1T = tf.matmul(e_j, e_j1, transpose_b=True)\n",
    "            ej1_ejT = tf.matmul(e_j1, e_j, transpose_b=True)\n",
    "            Rj = (\n",
    "                I\n",
    "                + (cos_m_theta[idx] - 1) * (ej_ejT + ej1_ej1T)\n",
    "                + sin_m_theta[idx] * (ej_ej1T - ej1_ejT)\n",
    "            )\n",
    "            #R = tf.matmul(R, Rj)\n",
    "        rotation_matrices.append(Rj)\n",
    "    return rotation_matrices\n",
    "\n",
    "\n",
    "\n",
    "\n",
    "def apply_rope_per_row(X, base=10000.0):\n",
    "\n",
    "    m, d = X.shape\n",
    "    m_vec = np.arange(m)\n",
    "    rotations = get_rope_rotation_matrix_list(d, m_vec, base=base, dtype=X.dtype)  \n",
    "    rotations = tf.stack(rotations)  \n",
    "    X_exp = tf.expand_dims(X, axis=1)  \n",
    "    X_rotated = tf.matmul(X_exp, rotations)  \n",
    "    X_rotated = tf.squeeze(X_rotated, axis=1)  \n",
    "    return X_rotated\n",
    "\n",
    "\n"
   ]
  },
  {
   "cell_type": "code",
   "execution_count": 93,
   "metadata": {},
   "outputs": [
    {
     "name": "stdout",
     "output_type": "stream",
     "text": [
      "tf.Tensor(\n",
      "[[0.9627     0.4698     0.0137     ... 0.0895     0.7386     0.1422    ]\n",
      " [0.9864     0.9629     0.3087     ... 0.3442     0.7981824  0.14639597]\n",
      " [0.318      0.67       0.7297     ... 0.0364     0.1957812  0.07824708]\n",
      " ...\n",
      " [0.5777     0.2154     0.3627     ... 0.1299     0.57167816 0.5883067 ]\n",
      " [0.7184     0.809      0.8707     ... 0.6045     0.23151873 0.16103892]\n",
      " [0.9035     0.9099     0.5241     ... 0.7485     0.8659355  0.88436913]], shape=(100, 100), dtype=float32)\n",
      "CPU times: total: 8.7 s\n",
      "Wall time: 8.71 s\n"
     ]
    },
    {
     "data": {
      "text/plain": [
       "<tf.Tensor: shape=(), dtype=float32, numpy=0.5905372500419617>"
      ]
     },
     "execution_count": 93,
     "metadata": {},
     "output_type": "execute_result"
    }
   ],
   "source": [
    "%%time\n",
    "X_rotated = apply_rope_per_row(X1)\n",
    "print(X_rotated)\n",
    "X_rotated[70][99]\n"
   ]
  },
  {
   "cell_type": "code",
   "execution_count": 94,
   "metadata": {},
   "outputs": [
    {
     "name": "stdout",
     "output_type": "stream",
     "text": [
      "tensor([[[[ 0.9627,  0.4698,  0.0137,  ...,  0.0895,  0.7386,  0.1422],\n",
      "          [-0.2773,  1.3503, -0.2137,  ...,  0.3443,  0.7982,  0.1464],\n",
      "          [-0.7416,  0.0103, -0.5426,  ...,  0.0367,  0.1958,  0.0782],\n",
      "          ...,\n",
      "          [-0.6162,  0.0200,  0.3972,  ...,  0.1433,  0.5717,  0.5883],\n",
      "          [-0.1247, -1.0747,  0.9443,  ...,  0.6064,  0.2315,  0.1610],\n",
      "          [ 0.9452, -0.8666,  0.1652,  ...,  0.7582,  0.8659,  0.8844]]]])\n",
      "CPU times: total: 125 ms\n",
      "Wall time: 8.88 ms\n"
     ]
    },
    {
     "data": {
      "text/plain": [
       "tensor(0.5905)"
      ]
     },
     "execution_count": 94,
     "metadata": {},
     "output_type": "execute_result"
    }
   ],
   "source": [
    "%%time\n",
    "d = 100\n",
    "rotary_emb = RotaryEmbedding(dim = d)\n",
    "q = rotary_emb.rotate_queries_or_keys(X1_torch)\n",
    "print(q)\n",
    "q[0][0][70][99]\n"
   ]
  },
  {
   "cell_type": "code",
   "execution_count": 95,
   "metadata": {},
   "outputs": [],
   "source": [
    "# import tensorflow as tf\n",
    "# import sonnet as snt\n",
    "\n",
    "# class RoPEMultiheadAttention(snt.Module):\n",
    "#     def __init__(self, num_heads, key_size, value_size, rope_dim=128, name=None):\n",
    "#         super().__init__(name=name)\n",
    "#         self.num_heads = num_heads\n",
    "#         self.key_size = key_size\n",
    "#         self.value_size = value_size\n",
    "#         self.rope_dim = rope_dim\n",
    "#         self.q_proj = snt.Linear(num_heads * key_size, name='q_proj')\n",
    "#         self.k_proj = snt.Linear(num_heads * key_size, name='k_proj')\n",
    "#         self.v_proj = snt.Linear(num_heads * value_size, name='v_proj')\n",
    "#         self.out_proj = snt.Linear(num_heads * value_size, name='out_proj')\n",
    "\n",
    "#     def rope_partial(self, x):\n",
    "#         # x: [batch, seq_len, num_heads, head_dim]\n",
    "#         shape = tf.shape(x)\n",
    "#         batch, seq_len, num_heads, head_dim = shape[0], shape[1], shape[2], shape[3]\n",
    "#         rope_dim = self.rope_dim\n",
    "#         rot_part = x[..., :rope_dim]  # (..., rope_dim)\n",
    "#         pass_part = x[..., rope_dim:] # (..., head_dim - rope_dim)\n",
    "#         inv_freq = 1.0 / (10000 ** (tf.cast(tf.range(0, rope_dim, 2), tf.float32) / tf.cast(rope_dim, tf.float32)))\n",
    "#         pos = tf.cast(tf.range(seq_len), tf.float32)\n",
    "#         freqs = tf.einsum('i,j->ij', pos, inv_freq)  # (seq_len, rope_dim//2)\n",
    "#         cos = tf.cos(freqs)  # (seq_len, rope_dim//2)\n",
    "#         sin = tf.sin(freqs)  # (seq_len, rope_dim//2)\n",
    "#         cos = tf.reshape(cos, [1, seq_len, 1, -1])  # (1, seq_len, 1, rope_dim//2)\n",
    "#         sin = tf.reshape(sin, [1, seq_len, 1, -1])  # (1, seq_len, 1, rope_dim//2)\n",
    "#         rot_part_2d = tf.reshape(rot_part, [batch, seq_len, num_heads, -1, 2])  # (..., rope_dim//2, 2)\n",
    "#         rot_0 = rot_part_2d[..., 0] * cos - rot_part_2d[..., 1] * sin\n",
    "#         rot_1 = rot_part_2d[..., 0] * sin + rot_part_2d[..., 1] * cos\n",
    "#         rot_part_rotated = tf.reshape(tf.stack([rot_0, rot_1], axis=-1), [batch, seq_len, num_heads, rope_dim])\n",
    "#         out = tf.concat([rot_part_rotated, pass_part], axis=-1)\n",
    "#         return out\n",
    "\n",
    "#     def __call__(self, x, is_training=False):\n",
    "#         # x: [batch, seq_len, d_model]\n",
    "#         batch = tf.shape(x)[0]\n",
    "#         seq_len = tf.shape(x)[1]\n",
    "#         d_model = x.shape[-1]\n",
    "#         Q = self.q_proj(x)  # (batch, seq_len, num_heads * key_size)\n",
    "#         K = self.k_proj(x)\n",
    "#         V = self.v_proj(x)\n",
    "#         Q = tf.reshape(Q, [batch, seq_len, self.num_heads, self.key_size])\n",
    "#         K = tf.reshape(K, [batch, seq_len, self.num_heads, self.key_size])\n",
    "#         V = tf.reshape(V, [batch, seq_len, self.num_heads, self.value_size])\n",
    "#         Q = self.rope_partial(Q)\n",
    "#         K = self.rope_partial(K)\n",
    "#         Q = tf.transpose(Q, [0, 2, 1, 3])  # (batch, num_heads, seq_len, key_size)\n",
    "#         K = tf.transpose(K, [0, 2, 1, 3])\n",
    "#         V = tf.transpose(V, [0, 2, 1, 3])\n",
    "#         attn_scores = tf.matmul(Q, K, transpose_b=True) / tf.math.sqrt(tf.cast(self.key_size, tf.float32))  # (batch, num_heads, seq_len, seq_len)\n",
    "#         attn_weights = tf.nn.softmax(attn_scores, axis=-1)\n",
    "#         attn_output = tf.matmul(attn_weights, V)  # (batch, num_heads, seq_len, value_size)\n",
    "#         attn_output = tf.transpose(attn_output, [0, 2, 1, 3])  # (batch, seq_len, num_heads, value_size)\n",
    "#         attn_output = tf.reshape(attn_output, [batch, seq_len, self.num_heads * self.value_size])\n",
    "#         return self.out_proj(attn_output)"
   ]
  },
  {
   "cell_type": "code",
   "execution_count": 96,
   "metadata": {},
   "outputs": [],
   "source": [
    "X1 = tf.expand_dims(X1,axis=0)\n",
    "X1 = tf.expand_dims(X1,axis=0)\n"
   ]
  },
  {
   "cell_type": "code",
   "execution_count": 97,
   "metadata": {},
   "outputs": [],
   "source": [
    "def rope_partial(x):\n",
    "    # x: [batch, seq_len, num_heads, head_dim]\n",
    "    shape = tf.shape(x)\n",
    "    batch, seq_len, num_heads, head_dim = shape[0], shape[1], shape[2], shape[3]\n",
    "    rope_dim = 100\n",
    "    rot_part = x[..., :rope_dim]  # (..., rope_dim)\n",
    "    pass_part = x[..., rope_dim:] # (..., head_dim - rope_dim)\n",
    "    inv_freq = 1.0 / (10000 ** (tf.cast(tf.range(0, rope_dim, 2), tf.float32) / tf.cast(rope_dim, tf.float32)))\n",
    "    pos = tf.cast(tf.range(seq_len), tf.float32)\n",
    "    freqs = tf.einsum('i,j->ij', pos, inv_freq)  # (seq_len, rope_dim//2)\n",
    "    cos = tf.cos(freqs)  # (seq_len, rope_dim//2)\n",
    "    sin = tf.sin(freqs)  # (seq_len, rope_dim//2)\n",
    "    cos = tf.reshape(cos, [1, seq_len, 1, -1])  # (1, seq_len, 1, rope_dim//2)\n",
    "    sin = tf.reshape(sin, [1, seq_len, 1, -1])  # (1, seq_len, 1, rope_dim//2)\n",
    "    rot_part_2d = tf.reshape(rot_part, [batch, seq_len, num_heads, -1, 2])  # (..., rope_dim//2, 2)\n",
    "    rot_0 = rot_part_2d[..., 0] * cos - rot_part_2d[..., 1] * sin\n",
    "    rot_1 = rot_part_2d[..., 0] * sin + rot_part_2d[..., 1] * cos\n",
    "    rot_part_rotated = tf.reshape(tf.stack([rot_0, rot_1], axis=-1), [batch, seq_len, num_heads, rope_dim])\n",
    "    out = tf.concat([rot_part_rotated, pass_part], axis=-1)\n",
    "    return out"
   ]
  },
  {
   "cell_type": "code",
   "execution_count": 98,
   "metadata": {},
   "outputs": [
    {
     "name": "stdout",
     "output_type": "stream",
     "text": [
      "tf.Tensor(\n",
      "[[[[0.9627 0.4698 0.0137 ... 0.0895 0.7386 0.1422]\n",
      "   [0.9864 0.9629 0.3087 ... 0.3442 0.7982 0.1463]\n",
      "   [0.318  0.67   0.7297 ... 0.0364 0.1958 0.0782]\n",
      "   ...\n",
      "   [0.5777 0.2154 0.3627 ... 0.1299 0.5785 0.5816]\n",
      "   [0.7184 0.809  0.8707 ... 0.6045 0.2334 0.1583]\n",
      "   [0.9035 0.9099 0.5241 ... 0.7485 0.8764 0.874 ]]]], shape=(1, 1, 100, 100), dtype=float32)\n"
     ]
    },
    {
     "data": {
      "text/plain": [
       "<tf.Tensor: shape=(), dtype=float32, numpy=0.5853999853134155>"
      ]
     },
     "execution_count": 98,
     "metadata": {},
     "output_type": "execute_result"
    }
   ],
   "source": [
    "c = rope_partial(X1)\n",
    "print(c)\n",
    "c[0][0][70][99]"
   ]
  }
 ],
 "metadata": {
  "kernelspec": {
   "display_name": "Python 3",
   "language": "python",
   "name": "python3"
  },
  "language_info": {
   "codemirror_mode": {
    "name": "ipython",
    "version": 3
   },
   "file_extension": ".py",
   "mimetype": "text/x-python",
   "name": "python",
   "nbconvert_exporter": "python",
   "pygments_lexer": "ipython3",
   "version": "3.11.11"
  }
 },
 "nbformat": 4,
 "nbformat_minor": 2
}
